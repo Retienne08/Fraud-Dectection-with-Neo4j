{
 "cells": [
  {
   "cell_type": "markdown",
   "metadata": {},
   "source": [
    "# Baseline fraud detection system\n",
    "\n",
    "This section aims at showing how a simple fraud detection system can be designed in a few steps. We will use the simulated data generated in the previous section. \n",
    "\n",
    "We will rely on a supervised learning approach. The topic of supervised learning will be covered in greater detail in later chapters. For this section, it is only sufficient to know that supervised learning allows to find a function that provides the probability for a transaction to be fraudulent. This function is called a *prediction model*, and is found using a procedure called *training*. The training requires a set of examples of genuine and fraudulent transactions, called the *training set*. \n",
    "\n",
    "The design of our fraud detection system will consist of three main steps:\n",
    "\n",
    "1. Defining a training and test sets: The training set will be a subset of transactions that will be used for training the prediction model. The test set will be a subset of transactions that will be used to assess the accuracy of the prediction model.\n",
    "2. Training a prediction model: This step will consist in using the training set to find a prediction model able to predict whether a transaction is genuine or fraudulent. We will rely for this task on the Python `sklearn` library, which provides easy-to-use functions to train prediction models. \n",
    "3. Assessing the accuracy of the prediction model: The accuracy of the prediction model will be assessed using the test set. \n",
    "\n",
    "We detail each of these steps in the rest of this section. "
   ]
  },
  {
   "cell_type": "code",
   "execution_count": 1,
   "metadata": {
    "tags": [
     "hide-cell"
    ]
   },
   "outputs": [],
   "source": [
    "# Necessary imports for this notebook\n",
    "\n",
    "import pandas as pd\n",
    "import numpy as np\n",
    "import datetime\n",
    "\n",
    "# For classification\n",
    "from sklearn.tree import DecisionTreeClassifier\n",
    "from sklearn.linear_model import LogisticRegression\n",
    "\n",
    "# For accuracy assessment\n",
    "from sklearn import metrics\n",
    "\n",
    "# For general plotting\n",
    "%matplotlib inline\n",
    "\n",
    "import matplotlib.pyplot as plt\n",
    "import seaborn as sns\n",
    "\n",
    "# For plotting decision tree\n",
    "import graphviz\n",
    "from sklearn.tree import export_graphviz\n",
    "from IPython.display import display\n",
    "\n",
    "%run ../helper_functions/shared_functions_basic.ipynb"
   ]
  },
  {
   "cell_type": "markdown",
   "metadata": {},
   "source": [
    "## Defining a training and test sets\n",
    "\n",
    "The training set aims at training a prediction model, while the test set aims at evaluating the accuracy of the prediction model. In a fraud detection context, it is important that the transactions in the test set occur *after* the transactions used for training the model. Indeed, the goal of the prediction model is to accurately predict fraud in the *future*.  \n",
    "\n",
    "We will use the transactions from the 2018/07/25 to the 2018/07/31 for the training set, and from the 2018-08-08 to the 2018-08-14 for the test set. One week of data will be sufficient to train a prediction model, and to assess its accuracy. We will later use larger periods for training and testing, in order to evaluate how larger sets can affect the results.\n",
    "\n",
    "It is worth noting that we choose our test set to take place one week after the last transaction of the training set. In a fraud detection context, this period separating the training and test set is referred to as the *delay period* {cite}`8038008`. It accounts for the fact that, in a real-world fraud detection system, the label of a transaction (fraudulent or genuine) is only known after a customer complaint, or thanks to the result of a fraud investigation. Setting a delay period of one week is simplistic. It assumes that the label (fraudulent or genuine) for all transactions are known exactly one week after they occurred. This is in practice not the case, since the delay may be shorter when customers report frauds quickly, or much longer in cases where frauds remain undetected for months. The delay period is in fact a parameter in the assessment of a fraud detection model. A one-week delay is, to a first approximation, a reasonable basis.   \n",
    "\n",
    "Let us load the transactions from the 2018-07-25 to the 2018-08-14, and plot the number of transactions per day, fraudulent transactions per day and fraudulent cards per day.\n"
   ]
  },
  {
   "cell_type": "code",
   "execution_count": 2,
   "metadata": {
    "tags": [
     "hide-cell"
    ]
   },
   "outputs": [
    {
     "name": "stdout",
     "output_type": "stream",
     "text": [
      "Load  files\n",
      "CPU times: user 150 ms, sys: 119 ms, total: 270 ms\n",
      "Wall time: 297 ms\n",
      "201295 transactions loaded, containing 1792 fraudulent transactions\n"
     ]
    }
   ],
   "source": [
    "# Load data from the 2018-07-25 to the 2018-08-14\n",
    "\n",
    "DIR_INPUT='./simulation_data/transformed_features/' \n",
    "\n",
    "BEGIN_DATE = \"2018-07-25\"\n",
    "END_DATE = \"2018-08-14\"\n",
    "\n",
    "print(\"Load  files\")\n",
    "%time transactions_df=read_from_files(DIR_INPUT, BEGIN_DATE, END_DATE)\n",
    "print(\"{0} transactions loaded, containing {1} fraudulent transactions\".format(len(transactions_df),transactions_df.TX_FRAUD.sum()))\n"
   ]
  },
  {
   "cell_type": "code",
   "execution_count": 3,
   "metadata": {
    "tags": [
     "hide-cell"
    ]
   },
   "outputs": [],
   "source": [
    "# Compute the number of transactions per day, fraudulent transactions per day and fraudulent cards per day\n",
    "\n",
    "def get_stats(transactions_df):\n",
    "    #Number of transactions per day\n",
    "    nb_tx_per_day=transactions_df.groupby(['TX_TIME_DAYS'])['CUSTOMER_ID'].count()\n",
    "    #Number of fraudulent transactions per day\n",
    "    nb_fraud_per_day=transactions_df.groupby(['TX_TIME_DAYS'])['TX_FRAUD'].sum()\n",
    "    #Number of fraudulent cards per day\n",
    "    nb_fraudcard_per_day=transactions_df[transactions_df['TX_FRAUD']>0].groupby(['TX_TIME_DAYS']).CUSTOMER_ID.nunique()\n",
    "    \n",
    "    return (nb_tx_per_day,nb_fraud_per_day,nb_fraudcard_per_day)\n",
    "\n",
    "(nb_tx_per_day,nb_fraud_per_day,nb_fraudcard_per_day)=get_stats(transactions_df)\n",
    "\n",
    "n_days=len(nb_tx_per_day)\n",
    "tx_stats=pd.DataFrame({\"value\":pd.concat([nb_tx_per_day/50,nb_fraud_per_day,nb_fraudcard_per_day])})\n",
    "tx_stats['stat_type']=[\"nb_tx_per_day\"]*n_days+[\"nb_fraud_per_day\"]*n_days+[\"nb_fraudcard_per_day\"]*n_days\n",
    "tx_stats=tx_stats.reset_index()\n",
    "start_date = datetime.datetime.strptime(\"2018-04-01\", \"%Y-%m-%d\")\n",
    "tx_stats['TX_DATE']=start_date+tx_stats['TX_TIME_DAYS'].apply(datetime.timedelta)"
   ]
  },
  {
   "cell_type": "code",
   "execution_count": 4,
   "metadata": {
    "tags": [
     "hide-cell"
    ]
   },
   "outputs": [],
   "source": [
    "%%capture\n",
    "\n",
    "# Plot the number of transactions per day, fraudulent transactions per day and fraudulent cards per day\n",
    "\n",
    "sns.set(style='darkgrid')\n",
    "sns.set(font_scale=1.4)\n",
    "\n",
    "fraud_and_transactions_stats_fig = plt.gcf()\n",
    "\n",
    "fraud_and_transactions_stats_fig.set_size_inches(15, 8)\n",
    "\n",
    "sns_plot = sns.lineplot(x=\"TX_DATE\", y=\"value\", data=tx_stats, hue=\"stat_type\", hue_order=[\"nb_tx_per_day\",\"nb_fraud_per_day\",\"nb_fraudcard_per_day\"], legend=False)\n",
    "\n",
    "sns_plot.set_title('Total transactions, and number of fraudulent transactions \\n and number of frauded cards per day', fontsize=20)\n",
    "sns_plot.set(xlabel = \"Date\", ylabel=\"Number\")\n",
    "\n",
    "sns_plot.set_ylim([0,300])\n",
    "\n",
    "labels_legend = [\"# transactions per day (/50)\", \"# fraudulent txs per day\", \"# fraudulent cards per day\"]\n",
    "\n",
    "sns_plot.legend(loc='upper left', labels=labels_legend,bbox_to_anchor=(1.05, 1), fontsize=15)\n",
    "\n",
    "# Training period\n",
    "start_date_training = datetime.datetime.strptime(\"2018-07-25\", \"%Y-%m-%d\")\n",
    "end_date_training = datetime.datetime.strptime(\"2018-07-31\", \"%Y-%m-%d\")\n",
    "sns_plot.text(start_date_training+datetime.timedelta(days=2), 280,'Training period', fontsize=15)\n",
    "\n",
    "# Delay period\n",
    "start_date_delay = datetime.datetime.strptime(\"2018-08-01\", \"%Y-%m-%d\")\n",
    "end_date_delay = datetime.datetime.strptime(\"2018-08-07\", \"%Y-%m-%d\")\n",
    "plt.axvline(start_date_delay, 0,300, color=\"black\")\n",
    "sns_plot.text(start_date_delay+datetime.timedelta(days=2.5), 280,'Delay period', fontsize=15)\n",
    "\n",
    "\n",
    "# Test period\n",
    "start_date_test = datetime.datetime.strptime(\"2018-08-08\", \"%Y-%m-%d\")\n",
    "end_date_test = datetime.datetime.strptime(\"2018-08-14\", \"%Y-%m-%d\")\n",
    "plt.axvline(start_date_test, 0,300, color=\"black\")\n",
    "sns_plot.text(start_date_test+datetime.timedelta(days=2.5), 280,'Test period', fontsize=15)\n"
   ]
  },
  {
   "cell_type": "code",
   "execution_count": 5,
   "metadata": {},
   "outputs": [
    {
     "data": {
      "image/png": "[encoded data removed]",
      "text/plain": [
       "<Figure size 1080x576 with 1 Axes>"
      ]
     },
     "execution_count": 5,
     "metadata": {},
     "output_type": "execute_result"
    }
   ],
   "source": [
    "fraud_and_transactions_stats_fig"
   ]
  },
  {
   "cell_type": "markdown",
   "metadata": {},
   "source": [
    "The plot shows us that the number of transactions and frauds is similar in the training and test periods. The average number of frauds is around 85 per day. Let us extract from the dataset the transactions for the training set and the test set. "
   ]
  },
  {
   "cell_type": "code",
   "execution_count": 6,
   "metadata": {
    "tags": [
     "hide-cell"
    ]
   },
   "outputs": [],
   "source": [
    "def get_train_test_set(transactions_df,start_date_training,end_date_training,start_date_test,end_date_test):\n",
    "    \n",
    "    train_df = transactions_df[(transactions_df.TX_DATETIME>=start_date_training) &\n",
    "                               (transactions_df.TX_DATETIME<end_date_training+datetime.timedelta(days=1))]\n",
    "    test_df = transactions_df[(transactions_df.TX_DATETIME>=start_date_test) &\n",
    "                               (transactions_df.TX_DATETIME<end_date_test+datetime.timedelta(days=1))]\n",
    "\n",
    "    customer_frauded_train_df = list(train_df[train_df.TX_FRAUD==1].CUSTOMER_ID.unique())\n",
    "    \n",
    "    test_df = test_df[~test_df.CUSTOMER_ID.isin(customer_frauded_train_df)]\n",
    "    \n",
    "    return (train_df, test_df)\n",
    "                               "
   ]
  },
  {
   "cell_type": "code",
   "execution_count": 7,
   "metadata": {},
   "outputs": [],
   "source": [
    "(train_df, test_df)=get_train_test_set(transactions_df,start_date_training,end_date_training,start_date_test,end_date_test)"
   ]
  },
  {
   "cell_type": "markdown",
   "metadata": {},
   "source": [
    "The trainig set contains 67240 transactions, among which 598 are fradulent."
   ]
  },
  {
   "cell_type": "code",
   "execution_count": 8,
   "metadata": {},
   "outputs": [
    {
     "data": {
      "text/plain": [
       "(67240, 23)"
      ]
     },
     "execution_count": 8,
     "metadata": {},
     "output_type": "execute_result"
    }
   ],
   "source": [
    "train_df.shape"
   ]
  },
  {
   "cell_type": "code",
   "execution_count": 9,
   "metadata": {},
   "outputs": [
    {
     "data": {
      "text/plain": [
       "(598, 23)"
      ]
     },
     "execution_count": 9,
     "metadata": {},
     "output_type": "execute_result"
    }
   ],
   "source": [
    "train_df[train_df.TX_FRAUD==1].shape\n"
   ]
  },
  {
   "cell_type": "markdown",
   "metadata": {},
   "source": [
    "The test set contains 60285 transactions, among which 433 are fradulent."
   ]
  },
  {
   "cell_type": "code",
   "execution_count": 10,
   "metadata": {},
   "outputs": [
    {
     "data": {
      "text/plain": [
       "(60285, 23)"
      ]
     },
     "execution_count": 10,
     "metadata": {},
     "output_type": "execute_result"
    }
   ],
   "source": [
    "test_df.shape"
   ]
  },
  {
   "cell_type": "code",
   "execution_count": 11,
   "metadata": {},
   "outputs": [
    {
     "data": {
      "text/plain": [
       "(433, 23)"
      ]
     },
     "execution_count": 11,
     "metadata": {},
     "output_type": "execute_result"
    }
   ],
   "source": [
    "test_df[test_df.TX_FRAUD==1].shape\n"
   ]
  },
  {
   "cell_type": "markdown",
   "metadata": {},
   "source": [
    "## Model training \n",
    "\n",
    "The training of a prediction model consists in finding the mathematical relationship that exists between two sets of features, called *input* and *output* features. In a fraud detection context, the goal is to find a function that can predict whether a transaction is fraudulent or genuine (the output feature), using features that characterize the transactions (the input features).\n",
    "\n",
    "We will define the input and output features as follows:\n",
    "\n",
    "* The output feature will be the transaction label `TX_FRAUD`\n",
    "* The input features will be the transaction amount `TX_AMOUNT`, as well as all the features that we computed in the previous section, which charaterize a transaction.\n"
   ]
  },
  {
   "cell_type": "code",
   "execution_count": 12,
   "metadata": {},
   "outputs": [],
   "source": [
    "output_feature=\"TX_FRAUD\"\n",
    "\n",
    "input_features=['TX_AMOUNT','TX_DURING_WEEKEND', 'TX_DURING_NIGHT', 'CUSTOMER_ID_NB_TX_1DAY_WINDOW',\n",
    "       'CUSTOMER_ID_AVG_AMOUNT_1DAY_WINDOW', 'CUSTOMER_ID_NB_TX_7DAY_WINDOW',\n",
    "       'CUSTOMER_ID_AVG_AMOUNT_7DAY_WINDOW', 'CUSTOMER_ID_NB_TX_30DAY_WINDOW',\n",
    "       'CUSTOMER_ID_AVG_AMOUNT_30DAY_WINDOW', 'TERMINAL_ID_NB_TX_1DAY_WINDOW',\n",
    "       'TERMINAL_ID_RISK_1DAY_WINDOW', 'TERMINAL_ID_NB_TX_7DAY_WINDOW',\n",
    "       'TERMINAL_ID_RISK_7DAY_WINDOW', 'TERMINAL_ID_NB_TX_30DAY_WINDOW',\n",
    "       'TERMINAL_ID_RISK_30DAY_WINDOW']\n"
   ]
  },
  {
   "cell_type": "markdown",
   "metadata": {},
   "source": [
    "In Python, the training of a prediction model is made easy using the `sklearn` library. In particular, the  `sklearn`  library provide implementations for training a wide range of prediction models.  \n",
    "\n",
    "The training and assessment of prediction models will be covereved in detail in later chapters. For now, we will simply aim at training and assessing some standard classifiers, without getting in the details of the training and assessment is actually performed.\n",
    "\n",
    "We will rely on three different prediction models, called *decision tree*, *logistic linear regression*, and *random forest*. These models are often used in benchmarks in the fraud detection literature {cite}`yousefi2019comprehensive,10.1007/978-3-030-38501-9_29`. \n",
    " \n"
   ]
  },
  {
   "cell_type": "code",
   "execution_count": 13,
   "metadata": {
    "tags": [
     "hide-cell"
    ]
   },
   "outputs": [],
   "source": [
    "def fit_model_and_get_predictions(classifier, train_df, test_df, \n",
    "                                      input_features, output_feature=\"TX_FRAUD\"):\n",
    "\n",
    "    # We first train the classifier the `fit` method, and pass as arguments the input and output features\n",
    "    classifier.fit(train_df[input_features], train_df[output_feature])\n",
    "    \n",
    "    # We then get the predictions on the training and test data using the `predict_proba` method\n",
    "    # The predictions are returned as a numpy array, that provides the probability of fraud for each transaction \n",
    "    predictions_test=classifier.predict_proba(test_df[input_features])[:,1]\n",
    "    predictions_train=classifier.predict_proba(train_df[input_features])[:,1]\n",
    "\n",
    "    # The result is returned as a dictionary containing the fitted models, \n",
    "    # and the predictions on the training and test sets\n",
    "    model_and_predictions_dictionary = {'classifier':classifier,\n",
    "                                        'predictions_test':predictions_test,\n",
    "                                        'predictions_train':predictions_train}\n",
    "    \n",
    "    return model_and_predictions_dictionary\n"
   ]
  },
  {
   "cell_type": "markdown",
   "metadata": {},
   "source": [
    "Let us for example train a decision tree using the taining data."
   ]
  },
  {
   "cell_type": "code",
   "execution_count": 14,
   "metadata": {},
   "outputs": [],
   "source": [
    "# We first create a decision tree object. We will limit its depth to 2 for interpretability, \n",
    "# and set the random state to zero for reproducibility\n",
    "classifier = DecisionTreeClassifier(max_depth = 2, random_state=0)\n",
    "\n",
    "model_and_predictions_dictionary = fit_model_and_get_predictions(classifier, train_df, test_df, \n",
    "                                                                 input_features, output_feature)"
   ]
  },
  {
   "cell_type": "markdown",
   "metadata": {},
   "source": [
    "Let us look at the predictions obtained for the first five transactions:"
   ]
  },
  {
   "cell_type": "code",
   "execution_count": 15,
   "metadata": {},
   "outputs": [
    {
     "data": {
      "text/html": [
       "<div>\n",
       "<style scoped>\n",
       "    .dataframe tbody tr th:only-of-type {\n",
       "        vertical-align: middle;\n",
       "    }\n",
       "\n",
       "    .dataframe tbody tr th {\n",
       "        vertical-align: top;\n",
       "    }\n",
       "\n",
       "    .dataframe thead th {\n",
       "        text-align: right;\n",
       "    }\n",
       "</style>\n",
       "<table border=\"1\" class=\"dataframe\">\n",
       "  <thead>\n",
       "    <tr style=\"text-align: right;\">\n",
       "      <th></th>\n",
       "      <th>TRANSACTION_ID</th>\n",
       "      <th>TX_DATETIME</th>\n",
       "      <th>CUSTOMER_ID</th>\n",
       "      <th>TERMINAL_ID</th>\n",
       "      <th>TX_AMOUNT</th>\n",
       "      <th>TX_TIME_SECONDS</th>\n",
       "      <th>TX_TIME_DAYS</th>\n",
       "      <th>TX_FRAUD</th>\n",
       "      <th>TX_FRAUD_SCENARIO</th>\n",
       "      <th>TX_DURING_WEEKEND</th>\n",
       "      <th>...</th>\n",
       "      <th>CUSTOMER_ID_AVG_AMOUNT_7DAY_WINDOW</th>\n",
       "      <th>CUSTOMER_ID_NB_TX_30DAY_WINDOW</th>\n",
       "      <th>CUSTOMER_ID_AVG_AMOUNT_30DAY_WINDOW</th>\n",
       "      <th>TERMINAL_ID_NB_TX_1DAY_WINDOW</th>\n",
       "      <th>TERMINAL_ID_RISK_1DAY_WINDOW</th>\n",
       "      <th>TERMINAL_ID_NB_TX_7DAY_WINDOW</th>\n",
       "      <th>TERMINAL_ID_RISK_7DAY_WINDOW</th>\n",
       "      <th>TERMINAL_ID_NB_TX_30DAY_WINDOW</th>\n",
       "      <th>TERMINAL_ID_RISK_30DAY_WINDOW</th>\n",
       "      <th>TX_FRAUD_PREDICTED</th>\n",
       "    </tr>\n",
       "  </thead>\n",
       "  <tbody>\n",
       "    <tr>\n",
       "      <th>1236698</th>\n",
       "      <td>1236698</td>\n",
       "      <td>2018-08-08 00:01:14</td>\n",
       "      <td>2765</td>\n",
       "      <td>2747</td>\n",
       "      <td>42.32</td>\n",
       "      <td>11145674</td>\n",
       "      <td>129</td>\n",
       "      <td>0</td>\n",
       "      <td>0</td>\n",
       "      <td>0</td>\n",
       "      <td>...</td>\n",
       "      <td>67.468529</td>\n",
       "      <td>120.0</td>\n",
       "      <td>64.611750</td>\n",
       "      <td>2.0</td>\n",
       "      <td>0.0</td>\n",
       "      <td>9.0</td>\n",
       "      <td>0.0</td>\n",
       "      <td>31.0</td>\n",
       "      <td>0.000000</td>\n",
       "      <td>0.003536</td>\n",
       "    </tr>\n",
       "    <tr>\n",
       "      <th>1236699</th>\n",
       "      <td>1236699</td>\n",
       "      <td>2018-08-08 00:02:33</td>\n",
       "      <td>714</td>\n",
       "      <td>2073</td>\n",
       "      <td>108.19</td>\n",
       "      <td>11145753</td>\n",
       "      <td>129</td>\n",
       "      <td>0</td>\n",
       "      <td>0</td>\n",
       "      <td>0</td>\n",
       "      <td>...</td>\n",
       "      <td>79.955455</td>\n",
       "      <td>124.0</td>\n",
       "      <td>85.365645</td>\n",
       "      <td>2.0</td>\n",
       "      <td>0.0</td>\n",
       "      <td>10.0</td>\n",
       "      <td>0.0</td>\n",
       "      <td>23.0</td>\n",
       "      <td>0.000000</td>\n",
       "      <td>0.003536</td>\n",
       "    </tr>\n",
       "    <tr>\n",
       "      <th>1236701</th>\n",
       "      <td>1236701</td>\n",
       "      <td>2018-08-08 00:08:40</td>\n",
       "      <td>4982</td>\n",
       "      <td>1258</td>\n",
       "      <td>26.13</td>\n",
       "      <td>11146120</td>\n",
       "      <td>129</td>\n",
       "      <td>0</td>\n",
       "      <td>0</td>\n",
       "      <td>0</td>\n",
       "      <td>...</td>\n",
       "      <td>56.269167</td>\n",
       "      <td>61.0</td>\n",
       "      <td>49.095902</td>\n",
       "      <td>1.0</td>\n",
       "      <td>0.0</td>\n",
       "      <td>10.0</td>\n",
       "      <td>0.0</td>\n",
       "      <td>26.0</td>\n",
       "      <td>0.076923</td>\n",
       "      <td>0.003536</td>\n",
       "    </tr>\n",
       "    <tr>\n",
       "      <th>1236702</th>\n",
       "      <td>1236702</td>\n",
       "      <td>2018-08-08 00:08:41</td>\n",
       "      <td>704</td>\n",
       "      <td>8501</td>\n",
       "      <td>65.81</td>\n",
       "      <td>11146121</td>\n",
       "      <td>129</td>\n",
       "      <td>0</td>\n",
       "      <td>0</td>\n",
       "      <td>0</td>\n",
       "      <td>...</td>\n",
       "      <td>62.643333</td>\n",
       "      <td>11.0</td>\n",
       "      <td>63.287273</td>\n",
       "      <td>1.0</td>\n",
       "      <td>0.0</td>\n",
       "      <td>6.0</td>\n",
       "      <td>0.0</td>\n",
       "      <td>23.0</td>\n",
       "      <td>0.000000</td>\n",
       "      <td>0.003536</td>\n",
       "    </tr>\n",
       "    <tr>\n",
       "      <th>1236703</th>\n",
       "      <td>1236703</td>\n",
       "      <td>2018-08-08 00:10:34</td>\n",
       "      <td>3085</td>\n",
       "      <td>4208</td>\n",
       "      <td>55.22</td>\n",
       "      <td>11146234</td>\n",
       "      <td>129</td>\n",
       "      <td>0</td>\n",
       "      <td>0</td>\n",
       "      <td>0</td>\n",
       "      <td>...</td>\n",
       "      <td>71.993846</td>\n",
       "      <td>72.0</td>\n",
       "      <td>59.899306</td>\n",
       "      <td>1.0</td>\n",
       "      <td>0.0</td>\n",
       "      <td>5.0</td>\n",
       "      <td>0.0</td>\n",
       "      <td>21.0</td>\n",
       "      <td>0.523810</td>\n",
       "      <td>0.003536</td>\n",
       "    </tr>\n",
       "  </tbody>\n",
       "</table>\n",
       "<p>5 rows × 24 columns</p>\n",
       "</div>"
      ],
      "text/plain": [
       "         TRANSACTION_ID         TX_DATETIME  CUSTOMER_ID  TERMINAL_ID  \\\n",
       "1236698         1236698 2018-08-08 00:01:14         2765         2747   \n",
       "1236699         1236699 2018-08-08 00:02:33          714         2073   \n",
       "1236701         1236701 2018-08-08 00:08:40         4982         1258   \n",
       "1236702         1236702 2018-08-08 00:08:41          704         8501   \n",
       "1236703         1236703 2018-08-08 00:10:34         3085         4208   \n",
       "\n",
       "         TX_AMOUNT  TX_TIME_SECONDS  TX_TIME_DAYS  TX_FRAUD  \\\n",
       "1236698      42.32         11145674           129         0   \n",
       "1236699     108.19         11145753           129         0   \n",
       "1236701      26.13         11146120           129         0   \n",
       "1236702      65.81         11146121           129         0   \n",
       "1236703      55.22         11146234           129         0   \n",
       "\n",
       "         TX_FRAUD_SCENARIO  TX_DURING_WEEKEND  ...  \\\n",
       "1236698                  0                  0  ...   \n",
       "1236699                  0                  0  ...   \n",
       "1236701                  0                  0  ...   \n",
       "1236702                  0                  0  ...   \n",
       "1236703                  0                  0  ...   \n",
       "\n",
       "         CUSTOMER_ID_AVG_AMOUNT_7DAY_WINDOW  CUSTOMER_ID_NB_TX_30DAY_WINDOW  \\\n",
       "1236698                           67.468529                           120.0   \n",
       "1236699                           79.955455                           124.0   \n",
       "1236701                           56.269167                            61.0   \n",
       "1236702                           62.643333                            11.0   \n",
       "1236703                           71.993846                            72.0   \n",
       "\n",
       "         CUSTOMER_ID_AVG_AMOUNT_30DAY_WINDOW  TERMINAL_ID_NB_TX_1DAY_WINDOW  \\\n",
       "1236698                            64.611750                            2.0   \n",
       "1236699                            85.365645                            2.0   \n",
       "1236701                            49.095902                            1.0   \n",
       "1236702                            63.287273                            1.0   \n",
       "1236703                            59.899306                            1.0   \n",
       "\n",
       "         TERMINAL_ID_RISK_1DAY_WINDOW  TERMINAL_ID_NB_TX_7DAY_WINDOW  \\\n",
       "1236698                           0.0                            9.0   \n",
       "1236699                           0.0                           10.0   \n",
       "1236701                           0.0                           10.0   \n",
       "1236702                           0.0                            6.0   \n",
       "1236703                           0.0                            5.0   \n",
       "\n",
       "         TERMINAL_ID_RISK_7DAY_WINDOW  TERMINAL_ID_NB_TX_30DAY_WINDOW  \\\n",
       "1236698                           0.0                            31.0   \n",
       "1236699                           0.0                            23.0   \n",
       "1236701                           0.0                            26.0   \n",
       "1236702                           0.0                            23.0   \n",
       "1236703                           0.0                            21.0   \n",
       "\n",
       "         TERMINAL_ID_RISK_30DAY_WINDOW  TX_FRAUD_PREDICTED  \n",
       "1236698                       0.000000            0.003536  \n",
       "1236699                       0.000000            0.003536  \n",
       "1236701                       0.076923            0.003536  \n",
       "1236702                       0.000000            0.003536  \n",
       "1236703                       0.523810            0.003536  \n",
       "\n",
       "[5 rows x 24 columns]"
      ]
     },
     "execution_count": 15,
     "metadata": {},
     "output_type": "execute_result"
    }
   ],
   "source": [
    "test_df['TX_FRAUD_PREDICTED']=model_and_predictions_dictionary['predictions_test']\n",
    "test_df.head()"
   ]
  },
  {
   "cell_type": "markdown",
   "metadata": {},
   "source": [
    "The probability of fraud for all these transactions is of 0.003536. We can display the decision tree to understand how these probabilities where set:"
   ]
  },
  {
   "cell_type": "code",
   "execution_count": 16,
   "metadata": {},
   "outputs": [
    {
     "data": {
      "image/svg+xml": [
       "<?xml version=\"1.0\" encoding=\"UTF-8\" standalone=\"no\"?>\n",
       "<!DOCTYPE svg PUBLIC \"-//W3C//DTD SVG 1.1//EN\"\n",
       " \"http://www.w3.org/Graphics/SVG/1.1/DTD/svg11.dtd\">\n",
       "<!-- Generated by graphviz version 2.40.1 (20161225.0304)\n",
       " -->\n",
       "<!-- Title: Tree Pages: 1 -->\n",
       "<svg width=\"601pt\" height=\"300pt\"\n",
       " viewBox=\"0.00 0.00 600.52 300.00\" xmlns=\"http://www.w3.org/2000/svg\" xmlns:xlink=\"http://www.w3.org/1999/xlink\">\n",
       "<g id=\"graph0\" class=\"graph\" transform=\"scale(1 1) rotate(0) translate(4 296)\">\n",
       "<title>Tree</title>\n",
       "<polygon fill=\"#ffffff\" stroke=\"transparent\" points=\"-4,4 -4,-296 596.521,-296 596.521,4 -4,4\"/>\n",
       "<!-- 0 -->\n",
       "<g id=\"node1\" class=\"node\">\n",
       "<title>0</title>\n",
       "<polygon fill=\"#e5823b\" stroke=\"#000000\" points=\"457.7738,-292 143.7633,-292 143.7633,-214 457.7738,-214 457.7738,-292\"/>\n",
       "<text text-anchor=\"middle\" x=\"300.7686\" y=\"-276.8\" font-family=\"Times,serif\" font-size=\"14.00\" fill=\"#000000\">TERMINAL_ID_RISK_7DAY_WINDOW &lt;= 0.551</text>\n",
       "<text text-anchor=\"middle\" x=\"300.7686\" y=\"-262.8\" font-family=\"Times,serif\" font-size=\"14.00\" fill=\"#000000\">gini = 0.018</text>\n",
       "<text text-anchor=\"middle\" x=\"300.7686\" y=\"-248.8\" font-family=\"Times,serif\" font-size=\"14.00\" fill=\"#000000\">samples = 67240</text>\n",
       "<text text-anchor=\"middle\" x=\"300.7686\" y=\"-234.8\" font-family=\"Times,serif\" font-size=\"14.00\" fill=\"#000000\">value = [66642, 598]</text>\n",
       "<text text-anchor=\"middle\" x=\"300.7686\" y=\"-220.8\" font-family=\"Times,serif\" font-size=\"14.00\" fill=\"#000000\">class = y[0]</text>\n",
       "</g>\n",
       "<!-- 1 -->\n",
       "<g id=\"node2\" class=\"node\">\n",
       "<title>1</title>\n",
       "<polygon fill=\"#e5823a\" stroke=\"#000000\" points=\"252.9171,-178 88.6201,-178 88.6201,-100 252.9171,-100 252.9171,-178\"/>\n",
       "<text text-anchor=\"middle\" x=\"170.7686\" y=\"-162.8\" font-family=\"Times,serif\" font-size=\"14.00\" fill=\"#000000\">TX_AMOUNT &lt;= 218.67</text>\n",
       "<text text-anchor=\"middle\" x=\"170.7686\" y=\"-148.8\" font-family=\"Times,serif\" font-size=\"14.00\" fill=\"#000000\">gini = 0.011</text>\n",
       "<text text-anchor=\"middle\" x=\"170.7686\" y=\"-134.8\" font-family=\"Times,serif\" font-size=\"14.00\" fill=\"#000000\">samples = 66863</text>\n",
       "<text text-anchor=\"middle\" x=\"170.7686\" y=\"-120.8\" font-family=\"Times,serif\" font-size=\"14.00\" fill=\"#000000\">value = [66500, 363]</text>\n",
       "<text text-anchor=\"middle\" x=\"170.7686\" y=\"-106.8\" font-family=\"Times,serif\" font-size=\"14.00\" fill=\"#000000\">class = y[0]</text>\n",
       "</g>\n",
       "<!-- 0&#45;&gt;1 -->\n",
       "<g id=\"edge1\" class=\"edge\">\n",
       "<title>0&#45;&gt;1</title>\n",
       "<path fill=\"none\" stroke=\"#000000\" d=\"M256.0299,-213.7677C245.5099,-204.5424 234.2032,-194.6273 223.3732,-185.1302\"/>\n",
       "<polygon fill=\"#000000\" stroke=\"#000000\" points=\"225.4159,-182.2664 215.5896,-178.3046 220.8006,-187.5294 225.4159,-182.2664\"/>\n",
       "<text text-anchor=\"middle\" x=\"217.2255\" y=\"-199.0511\" font-family=\"Times,serif\" font-size=\"14.00\" fill=\"#000000\">True</text>\n",
       "</g>\n",
       "<!-- 4 -->\n",
       "<g id=\"node5\" class=\"node\">\n",
       "<title>4</title>\n",
       "<polygon fill=\"#b1d8f5\" stroke=\"#000000\" points=\"592.2738,-178 271.2633,-178 271.2633,-100 592.2738,-100 592.2738,-178\"/>\n",
       "<text text-anchor=\"middle\" x=\"431.7686\" y=\"-162.8\" font-family=\"Times,serif\" font-size=\"14.00\" fill=\"#000000\">TERMINAL_ID_RISK_30DAY_WINDOW &lt;= 0.662</text>\n",
       "<text text-anchor=\"middle\" x=\"431.7686\" y=\"-148.8\" font-family=\"Times,serif\" font-size=\"14.00\" fill=\"#000000\">gini = 0.47</text>\n",
       "<text text-anchor=\"middle\" x=\"431.7686\" y=\"-134.8\" font-family=\"Times,serif\" font-size=\"14.00\" fill=\"#000000\">samples = 377</text>\n",
       "<text text-anchor=\"middle\" x=\"431.7686\" y=\"-120.8\" font-family=\"Times,serif\" font-size=\"14.00\" fill=\"#000000\">value = [142, 235]</text>\n",
       "<text text-anchor=\"middle\" x=\"431.7686\" y=\"-106.8\" font-family=\"Times,serif\" font-size=\"14.00\" fill=\"#000000\">class = y[1]</text>\n",
       "</g>\n",
       "<!-- 0&#45;&gt;4 -->\n",
       "<g id=\"edge4\" class=\"edge\">\n",
       "<title>0&#45;&gt;4</title>\n",
       "<path fill=\"none\" stroke=\"#000000\" d=\"M345.8513,-213.7677C356.4522,-204.5424 367.846,-194.6273 378.7592,-185.1302\"/>\n",
       "<polygon fill=\"#000000\" stroke=\"#000000\" points=\"381.3567,-187.5096 386.6027,-178.3046 376.7615,-182.2291 381.3567,-187.5096\"/>\n",
       "<text text-anchor=\"middle\" x=\"384.8722\" y=\"-199.0447\" font-family=\"Times,serif\" font-size=\"14.00\" fill=\"#000000\">False</text>\n",
       "</g>\n",
       "<!-- 2 -->\n",
       "<g id=\"node3\" class=\"node\">\n",
       "<title>2</title>\n",
       "<polygon fill=\"#e5813a\" stroke=\"#000000\" points=\"133.3065,-64 .2306,-64 .2306,0 133.3065,0 133.3065,-64\"/>\n",
       "<text text-anchor=\"middle\" x=\"66.7686\" y=\"-48.8\" font-family=\"Times,serif\" font-size=\"14.00\" fill=\"#000000\">gini = 0.007</text>\n",
       "<text text-anchor=\"middle\" x=\"66.7686\" y=\"-34.8\" font-family=\"Times,serif\" font-size=\"14.00\" fill=\"#000000\">samples = 66734</text>\n",
       "<text text-anchor=\"middle\" x=\"66.7686\" y=\"-20.8\" font-family=\"Times,serif\" font-size=\"14.00\" fill=\"#000000\">value = [66498, 236]</text>\n",
       "<text text-anchor=\"middle\" x=\"66.7686\" y=\"-6.8\" font-family=\"Times,serif\" font-size=\"14.00\" fill=\"#000000\">class = y[0]</text>\n",
       "</g>\n",
       "<!-- 1&#45;&gt;2 -->\n",
       "<g id=\"edge2\" class=\"edge\">\n",
       "<title>1&#45;&gt;2</title>\n",
       "<path fill=\"none\" stroke=\"#000000\" d=\"M132.6333,-99.7647C123.6676,-90.5404 114.1087,-80.7057 105.133,-71.4711\"/>\n",
       "<polygon fill=\"#000000\" stroke=\"#000000\" points=\"107.5618,-68.9483 98.0822,-64.2169 102.5422,-73.8272 107.5618,-68.9483\"/>\n",
       "</g>\n",
       "<!-- 3 -->\n",
       "<g id=\"node4\" class=\"node\">\n",
       "<title>3</title>\n",
       "<polygon fill=\"#3c9fe5\" stroke=\"#000000\" points=\"257.3067,-64 152.2304,-64 152.2304,0 257.3067,0 257.3067,-64\"/>\n",
       "<text text-anchor=\"middle\" x=\"204.7686\" y=\"-48.8\" font-family=\"Times,serif\" font-size=\"14.00\" fill=\"#000000\">gini = 0.031</text>\n",
       "<text text-anchor=\"middle\" x=\"204.7686\" y=\"-34.8\" font-family=\"Times,serif\" font-size=\"14.00\" fill=\"#000000\">samples = 129</text>\n",
       "<text text-anchor=\"middle\" x=\"204.7686\" y=\"-20.8\" font-family=\"Times,serif\" font-size=\"14.00\" fill=\"#000000\">value = [2, 127]</text>\n",
       "<text text-anchor=\"middle\" x=\"204.7686\" y=\"-6.8\" font-family=\"Times,serif\" font-size=\"14.00\" fill=\"#000000\">class = y[1]</text>\n",
       "</g>\n",
       "<!-- 1&#45;&gt;3 -->\n",
       "<g id=\"edge3\" class=\"edge\">\n",
       "<title>1&#45;&gt;3</title>\n",
       "<path fill=\"none\" stroke=\"#000000\" d=\"M183.2358,-99.7647C185.9057,-91.3624 188.7366,-82.4536 191.4376,-73.9532\"/>\n",
       "<polygon fill=\"#000000\" stroke=\"#000000\" points=\"194.8386,-74.8073 194.5314,-64.2169 188.1673,-72.6874 194.8386,-74.8073\"/>\n",
       "</g>\n",
       "<!-- 5 -->\n",
       "<g id=\"node6\" class=\"node\">\n",
       "<title>5</title>\n",
       "<polygon fill=\"#43a2e6\" stroke=\"#000000\" points=\"454.793,-64 342.7441,-64 342.7441,0 454.793,0 454.793,-64\"/>\n",
       "<text text-anchor=\"middle\" x=\"398.7686\" y=\"-48.8\" font-family=\"Times,serif\" font-size=\"14.00\" fill=\"#000000\">gini = 0.09</text>\n",
       "<text text-anchor=\"middle\" x=\"398.7686\" y=\"-34.8\" font-family=\"Times,serif\" font-size=\"14.00\" fill=\"#000000\">samples = 233</text>\n",
       "<text text-anchor=\"middle\" x=\"398.7686\" y=\"-20.8\" font-family=\"Times,serif\" font-size=\"14.00\" fill=\"#000000\">value = [11, 222]</text>\n",
       "<text text-anchor=\"middle\" x=\"398.7686\" y=\"-6.8\" font-family=\"Times,serif\" font-size=\"14.00\" fill=\"#000000\">class = y[1]</text>\n",
       "</g>\n",
       "<!-- 4&#45;&gt;5 -->\n",
       "<g id=\"edge5\" class=\"edge\">\n",
       "<title>4&#45;&gt;5</title>\n",
       "<path fill=\"none\" stroke=\"#000000\" d=\"M419.668,-99.7647C417.0766,-91.3624 414.329,-82.4536 411.7074,-73.9532\"/>\n",
       "<polygon fill=\"#000000\" stroke=\"#000000\" points=\"414.9964,-72.7412 408.7046,-64.2169 408.3073,-74.8043 414.9964,-72.7412\"/>\n",
       "</g>\n",
       "<!-- 6 -->\n",
       "<g id=\"node7\" class=\"node\">\n",
       "<title>6</title>\n",
       "<polygon fill=\"#e88e4d\" stroke=\"#000000\" points=\"584.8066,-64 472.7305,-64 472.7305,0 584.8066,0 584.8066,-64\"/>\n",
       "<text text-anchor=\"middle\" x=\"528.7686\" y=\"-48.8\" font-family=\"Times,serif\" font-size=\"14.00\" fill=\"#000000\">gini = 0.164</text>\n",
       "<text text-anchor=\"middle\" x=\"528.7686\" y=\"-34.8\" font-family=\"Times,serif\" font-size=\"14.00\" fill=\"#000000\">samples = 144</text>\n",
       "<text text-anchor=\"middle\" x=\"528.7686\" y=\"-20.8\" font-family=\"Times,serif\" font-size=\"14.00\" fill=\"#000000\">value = [131, 13]</text>\n",
       "<text text-anchor=\"middle\" x=\"528.7686\" y=\"-6.8\" font-family=\"Times,serif\" font-size=\"14.00\" fill=\"#000000\">class = y[0]</text>\n",
       "</g>\n",
       "<!-- 4&#45;&gt;6 -->\n",
       "<g id=\"edge6\" class=\"edge\">\n",
       "<title>4&#45;&gt;6</title>\n",
       "<path fill=\"none\" stroke=\"#000000\" d=\"M467.337,-99.7647C475.6164,-90.6317 484.4383,-80.9004 492.7375,-71.7456\"/>\n",
       "<polygon fill=\"#000000\" stroke=\"#000000\" points=\"495.4393,-73.9764 499.5626,-64.2169 490.2531,-69.2749 495.4393,-73.9764\"/>\n",
       "</g>\n",
       "</g>\n",
       "</svg>\n"
      ],
      "text/plain": [
       "<graphviz.files.Source at 0x12333f910>"
      ]
     },
     "metadata": {},
     "output_type": "display_data"
    }
   ],
   "source": [
    "display(graphviz.Source(export_graphviz(classifier,feature_names=input_features,class_names=True, filled=True)))"
   ]
  },
  {
   "cell_type": "markdown",
   "metadata": {},
   "source": [
    "A decision tree allows split the input space in different regions, in such a way that the fraudulent transactions are separated from the genuine transactions. The last level of the tree (the leaves) gives the number of fraudulent and genuine transactions in each of these regions. The color indicates whether a node or leaf of the tree contains a majority of genuine (orange) or fraudulent (blue) transactions.\n",
    "\n",
    "Each of the five first transactions fall into the first leaf, a region that contains 460 fraudulent transactions and 66473 genuine transactions, that is, a region where the probability of fraud is $\\frac{236}{66498+236}=0.003536$."
   ]
  },
  {
   "cell_type": "markdown",
   "metadata": {},
   "source": [
    "It is worth noting that the decision tree correctly found that all transactions whose amounts are higher than 220 are frauds (scenario 1 in the fraud generation process). The corresponding region is the fourth leaf, which contain 124 transactions, all fraudulent. "
   ]
  },
  {
   "cell_type": "markdown",
   "metadata": {},
   "source": [
    "## Accuracy assessment"
   ]
  },
  {
   "cell_type": "code",
   "execution_count": 17,
   "metadata": {},
   "outputs": [],
   "source": [
    "def getPrecisionTopK(df_day,top_k):\n",
    "    n_frauds=df_day.TX_FRAUD.sum()\n",
    "    n_frauds_norm = top_k \n",
    "    nbr_correct_pred = df_day.head(top_k).TX_FRAUD.sum()\n",
    "    pr_topn = nbr_correct_pred / n_frauds_norm\n",
    "    return pr_topn\n",
    "\n",
    "\n",
    "def get_percentage_detected_cards(predictions_df, top_k=100):\n",
    "    \n",
    "    list_days=list(predictions_df['TX_TIME_DAYS'].unique())\n",
    "    list_days.sort()\n",
    "    \n",
    "    known_fraud_cards = []\n",
    "    \n",
    "    total_frauded_cards=len(predictions_df[predictions_df.TX_FRAUD==1].CUSTOMER_ID.unique())\n",
    "    \n",
    "    precision_top_k_per_day_list = []\n",
    "    \n",
    "    for day in list_days:\n",
    "        \n",
    "        df_day = predictions_df[predictions_df['TX_TIME_DAYS']==day]\n",
    "        df_day = df_day[['predictions', 'CUSTOMER_ID', 'TX_FRAUD']]\n",
    "        \n",
    "        # This takes the max of the predictions AND the max of label TX_FRAUD for each CUSTOMER_ID, \n",
    "        # and sorts by decreasing order of fraudulent prediction\n",
    "        df_day = df_day.groupby('CUSTOMER_ID').max().sort_values(by=\"predictions\", ascending=False).reset_index(drop=False)\n",
    "        \n",
    "        precision_top_k_per_day_list.append(getPrecisionTopK(df_day,top_k))\n",
    "        \n",
    "        df_top=df_day.head(top_k)\n",
    "        \n",
    "        known_fraud_cards = known_fraud_cards + list(df_top[df_top.TX_FRAUD==1].CUSTOMER_ID)\n",
    "        predictions_df=predictions_df[~predictions_df.CUSTOMER_ID.isin(known_fraud_cards)]\n",
    "    \n",
    "    percentage_detected_cards=len(known_fraud_cards)/total_frauded_cards \n",
    "    \n",
    "    #return np.array(precision_top_k_per_day_list).mean()#, len(known_fraud_cards)/total_frauded_cards \n",
    "    return percentage_detected_cards\n",
    "\n",
    "def prediction_accuracy(predictions_df, output_feature='TX_FRAUD', prediction_feature='predictions', top_k=100):\n",
    "    \n",
    "    AUC_ROC = metrics.roc_auc_score(predictions_df[output_feature], predictions_df[prediction_feature])\n",
    "    AP = metrics.average_precision_score(predictions_df[output_feature], predictions_df[prediction_feature])\n",
    "    \n",
    "    percentage_detected_cards = get_percentage_detected_cards(predictions_df, top_k)\n",
    "    \n",
    "    #Top_100= precision_top_k_per_day_list.mean()\n",
    "    \n",
    "    results = pd.DataFrame([[AUC_ROC, AP, percentage_detected_cards]], \n",
    "                           columns=['AUC ROC','Average precision',\n",
    "                                    'Precision@'+str(top_k)])\n",
    "    results = results.round(3)\n",
    "    \n",
    "    return results\n"
   ]
  },
  {
   "cell_type": "markdown",
   "metadata": {},
   "source": [
    "Let us compute the accuracy in terms of AUC ROC, Average Precision (AP), and Precision Top 20."
   ]
  },
  {
   "cell_type": "code",
   "execution_count": 18,
   "metadata": {},
   "outputs": [
    {
     "data": {
      "text/html": [
       "<div>\n",
       "<style scoped>\n",
       "    .dataframe tbody tr th:only-of-type {\n",
       "        vertical-align: middle;\n",
       "    }\n",
       "\n",
       "    .dataframe tbody tr th {\n",
       "        vertical-align: top;\n",
       "    }\n",
       "\n",
       "    .dataframe thead th {\n",
       "        text-align: right;\n",
       "    }\n",
       "</style>\n",
       "<table border=\"1\" class=\"dataframe\">\n",
       "  <thead>\n",
       "    <tr style=\"text-align: right;\">\n",
       "      <th></th>\n",
       "      <th>AUC ROC</th>\n",
       "      <th>Average precision</th>\n",
       "      <th>Precision@20</th>\n",
       "    </tr>\n",
       "  </thead>\n",
       "  <tbody>\n",
       "    <tr>\n",
       "      <th>0</th>\n",
       "      <td>0.774</td>\n",
       "      <td>0.523</td>\n",
       "      <td>0.447</td>\n",
       "    </tr>\n",
       "  </tbody>\n",
       "</table>\n",
       "</div>"
      ],
      "text/plain": [
       "   AUC ROC  Average precision  Precision@20\n",
       "0    0.774              0.523         0.447"
      ]
     },
     "execution_count": 18,
     "metadata": {},
     "output_type": "execute_result"
    }
   ],
   "source": [
    "predictions_df=test_df\n",
    "predictions_df['predictions']=model_and_predictions_dictionary['predictions_test']\n",
    "    \n",
    "prediction_accuracy(predictions_df, top_k=20)"
   ]
  },
  {
   "cell_type": "markdown",
   "metadata": {},
   "source": [
    "## Accuracy with other classifiers"
   ]
  },
  {
   "cell_type": "markdown",
   "metadata": {},
   "source": [
    "We finally train three other predictions models using\n",
    "\n",
    "* Linear regression\n",
    "* Decision tree with unlimited depth\n",
    "* Random forest"
   ]
  },
  {
   "cell_type": "code",
   "execution_count": 19,
   "metadata": {},
   "outputs": [],
   "source": [
    "classifiers_dictionary={'Linear regression':LogisticRegression(), \n",
    "                        'Decision tree with depth of two':DecisionTreeClassifier(max_depth=2,random_state=0), \n",
    "                        'Decision tree - unlimited depth':DecisionTreeClassifier(random_state=0), \n",
    "                        'Random forest':RandomForestClassifier(random_state=0),\n",
    "                       }\n",
    "\n",
    "fitted_models_and_predictions_dictionary={}\n",
    "\n",
    "for classifier_name in classifiers_dictionary:\n",
    "    \n",
    "    #start_time=time.time()\n",
    "    model_and_predictions = fit_model_and_get_predictions(classifiers_dictionary[classifier_name], train_df, test_df, \n",
    "                                                                                  input_features=input_features,\n",
    "                                                                                output_feature=output_feature)\n",
    "    #print(time.time()-start_time)\n",
    "    fitted_models_and_predictions_dictionary[classifier_name]=model_and_predictions\n"
   ]
  },
  {
   "cell_type": "code",
   "execution_count": 20,
   "metadata": {},
   "outputs": [],
   "source": [
    "def prediction_accuracy_model_collection(fitted_models_and_predictions_dictionary, transactions_df, type_set='test',top_k=100):\n",
    "\n",
    "    results=pd.DataFrame(columns=['AUC ROC','Average precision',\n",
    "                                  'Precision@'+str(top_k)])\n",
    "\n",
    "    for classifier_name, model_and_predictions in fitted_models_and_predictions_dictionary.items():\n",
    "    \n",
    "        predictions_df=transactions_df\n",
    "            \n",
    "        predictions_df['predictions']=model_and_predictions['predictions_'+type_set]\n",
    "        \n",
    "        results_model=prediction_accuracy(predictions_df, output_feature='TX_FRAUD', \n",
    "                                          prediction_feature='predictions', top_k=top_k)\n",
    "        results_model.index=[classifier_name]\n",
    "        \n",
    "        results=results.append(results_model)\n",
    "        \n",
    "    return results\n",
    "    "
   ]
  },
  {
   "cell_type": "code",
   "execution_count": 21,
   "metadata": {},
   "outputs": [
    {
     "data": {
      "text/html": [
       "<div>\n",
       "<style scoped>\n",
       "    .dataframe tbody tr th:only-of-type {\n",
       "        vertical-align: middle;\n",
       "    }\n",
       "\n",
       "    .dataframe tbody tr th {\n",
       "        vertical-align: top;\n",
       "    }\n",
       "\n",
       "    .dataframe thead th {\n",
       "        text-align: right;\n",
       "    }\n",
       "</style>\n",
       "<table border=\"1\" class=\"dataframe\">\n",
       "  <thead>\n",
       "    <tr style=\"text-align: right;\">\n",
       "      <th></th>\n",
       "      <th>AUC ROC</th>\n",
       "      <th>Average precision</th>\n",
       "      <th>Precision@20</th>\n",
       "    </tr>\n",
       "  </thead>\n",
       "  <tbody>\n",
       "    <tr>\n",
       "      <th>Linear regression</th>\n",
       "      <td>0.861</td>\n",
       "      <td>0.447</td>\n",
       "      <td>0.295</td>\n",
       "    </tr>\n",
       "    <tr>\n",
       "      <th>Decision tree with depth of two</th>\n",
       "      <td>0.774</td>\n",
       "      <td>0.523</td>\n",
       "      <td>0.447</td>\n",
       "    </tr>\n",
       "    <tr>\n",
       "      <th>Decision tree - unlimited depth</th>\n",
       "      <td>0.800</td>\n",
       "      <td>0.339</td>\n",
       "      <td>0.252</td>\n",
       "    </tr>\n",
       "    <tr>\n",
       "      <th>Random forest</th>\n",
       "      <td>0.878</td>\n",
       "      <td>0.684</td>\n",
       "      <td>0.457</td>\n",
       "    </tr>\n",
       "  </tbody>\n",
       "</table>\n",
       "</div>"
      ],
      "text/plain": [
       "                                 AUC ROC  Average precision  Precision@20\n",
       "Linear regression                  0.861              0.447         0.295\n",
       "Decision tree with depth of two    0.774              0.523         0.447\n",
       "Decision tree - unlimited depth    0.800              0.339         0.252\n",
       "Random forest                      0.878              0.684         0.457"
      ]
     },
     "execution_count": 21,
     "metadata": {},
     "output_type": "execute_result"
    }
   ],
   "source": [
    "# Accuracy on test set\n",
    "df_results=prediction_accuracy_model_collection(fitted_models_and_predictions_dictionary, test_df, type_set='test', top_k=20)\n",
    "df_results"
   ]
  },
  {
   "cell_type": "code",
   "execution_count": 22,
   "metadata": {},
   "outputs": [
    {
     "data": {
      "text/html": [
       "<div>\n",
       "<style scoped>\n",
       "    .dataframe tbody tr th:only-of-type {\n",
       "        vertical-align: middle;\n",
       "    }\n",
       "\n",
       "    .dataframe tbody tr th {\n",
       "        vertical-align: top;\n",
       "    }\n",
       "\n",
       "    .dataframe thead th {\n",
       "        text-align: right;\n",
       "    }\n",
       "</style>\n",
       "<table border=\"1\" class=\"dataframe\">\n",
       "  <thead>\n",
       "    <tr style=\"text-align: right;\">\n",
       "      <th></th>\n",
       "      <th>AUC ROC</th>\n",
       "      <th>Average precision</th>\n",
       "      <th>Precision@20</th>\n",
       "    </tr>\n",
       "  </thead>\n",
       "  <tbody>\n",
       "    <tr>\n",
       "      <th>Linear regression</th>\n",
       "      <td>0.886</td>\n",
       "      <td>0.540</td>\n",
       "      <td>0.258</td>\n",
       "    </tr>\n",
       "    <tr>\n",
       "      <th>Decision tree with depth of two</th>\n",
       "      <td>0.802</td>\n",
       "      <td>0.586</td>\n",
       "      <td>0.340</td>\n",
       "    </tr>\n",
       "    <tr>\n",
       "      <th>Decision tree - unlimited depth</th>\n",
       "      <td>1.000</td>\n",
       "      <td>1.000</td>\n",
       "      <td>0.347</td>\n",
       "    </tr>\n",
       "    <tr>\n",
       "      <th>Random forest</th>\n",
       "      <td>1.000</td>\n",
       "      <td>1.000</td>\n",
       "      <td>0.347</td>\n",
       "    </tr>\n",
       "  </tbody>\n",
       "</table>\n",
       "</div>"
      ],
      "text/plain": [
       "                                 AUC ROC  Average precision  Precision@20\n",
       "Linear regression                  0.886              0.540         0.258\n",
       "Decision tree with depth of two    0.802              0.586         0.340\n",
       "Decision tree - unlimited depth    1.000              1.000         0.347\n",
       "Random forest                      1.000              1.000         0.347"
      ]
     },
     "execution_count": 22,
     "metadata": {},
     "output_type": "execute_result"
    }
   ],
   "source": [
    "# Accuracy on training set\n",
    "df_results=prediction_accuracy_model_collection(fitted_models_and_predictions_dictionary, train_df, type_set='train', top_k=20)\n",
    "df_results"
   ]
  },
  {
   "cell_type": "code",
   "execution_count": null,
   "metadata": {},
   "outputs": [],
   "source": []
  }
 ],
 "metadata": {
  "kernelspec": {
   "display_name": "Python 3",
   "language": "python",
   "name": "python3"
  },
  "language_info": {
   "codemirror_mode": {
    "name": "ipython",
    "version": 3
   },
   "file_extension": ".py",
   "mimetype": "text/x-python",
   "name": "python",
   "nbconvert_exporter": "python",
   "pygments_lexer": "ipython3",
   "version": "3.8.5"
  }
 },
 "nbformat": 4,
 "nbformat_minor": 2
}
